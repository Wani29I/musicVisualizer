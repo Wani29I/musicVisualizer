{
 "cells": [
  {
   "cell_type": "code",
   "execution_count": 1,
   "metadata": {},
   "outputs": [],
   "source": [
    "import sys\n",
    "from pathlib import Path\n",
    "from tqdm import tqdm\n",
    "\n",
    "# in jupyter (lab / notebook), based on notebook path\n",
    "module_path = str(Path.cwd())\n",
    "\n",
    "if module_path not in sys.path:\n",
    "    sys.path.append(module_path)"
   ]
  },
  {
   "cell_type": "code",
   "execution_count": 2,
   "metadata": {},
   "outputs": [],
   "source": [
    "from main import add_song\n",
    "import requests\n",
    "from bs4 import BeautifulSoup"
   ]
  },
  {
   "cell_type": "code",
   "execution_count": 4,
   "metadata": {},
   "outputs": [],
   "source": [
    "def loop_get_top_song(year):\n",
    "    # Make a GET request to the Wikipedia page\n",
    "    response = requests.get(f\"https://en.wikipedia.org/wiki/Billboard_Year-End_Hot_100_singles_of_{year}\")\n",
    "\n",
    "    # Parse the HTML content using BeautifulSoup\n",
    "    soup = BeautifulSoup(response.content, \"html.parser\")\n",
    "\n",
    "    # Find the table with the song names\n",
    "    song_table = soup.find(\"table\", {\"class\": \"wikitable sortable\"})\n",
    "\n",
    "    # Find all the rows in the table, skipping the first row (which contains column headers)\n",
    "    song_rows = song_table.find_all(\"tr\")[1:]\n",
    "\n",
    "    # Extract the song name from each row and add it to a list\n",
    "    song_names = [row.find_all(\"td\")[1].text.strip().replace('\"','' ) for row in song_rows]\n",
    "\n",
    "    # Print the list of song names\n",
    "    return song_names"
   ]
  },
  {
   "cell_type": "code",
   "execution_count": 5,
   "metadata": {},
   "outputs": [
    {
     "name": "stdout",
     "output_type": "stream",
     "text": [
      "100\n"
     ]
    }
   ],
   "source": [
    "song_name_list = []\n",
    "\n",
    "for year in range(2009, 2008, -1):\n",
    "    song_name_list= song_name_list+loop_get_top_song(year)\n",
    "    \n",
    "print(len(song_name_list))"
   ]
  },
  {
   "cell_type": "code",
   "execution_count": 6,
   "metadata": {},
   "outputs": [
    {
     "name": "stdout",
     "output_type": "stream",
     "text": [
      "['Boom Boom Pow', 'Poker Face', 'Just Dance', 'I Gotta Feeling', 'Love Story', 'Right Round', \"I'm Yours\", 'Single Ladies (Put a Ring on It)', 'Heartless', 'Gives You Hell', 'You Belong with Me', 'Dead and Gone', 'You Found Me', 'Use Somebody', 'Knock You Down', 'Blame It', 'I Know You Want Me (Calle Ocho)', 'Live Your Life', 'Kiss Me thru the Phone', 'Down', 'The Climb', 'Best I Ever Had', 'My Life Would Suck Without You', 'Halo', 'Hot n Cold', 'Second Chance', 'Circus', \"Day 'n' Nite\", 'Party in the U.S.A.', \"Don't Trust Me\", 'Run This Town', 'Let It Rock', 'Fire Burning', 'Whatcha Say', 'LoveGame', 'Waking Up in Vegas', 'Birthday Sex', 'Sober', 'Womanizer', 'Whatever You Like', 'Obsessed', 'Mad', 'Good Girls Go Bad', 'Love Lockdown', 'So What', 'Hotel Room Service', 'Crack a Bottle', 'If I Were a Boy', 'Turnin Me On', 'I Hate This Part', 'Gotta Be Somebody', \"Please Don't Leave Me\", 'Paparazzi', 'Beautiful', 'Viva la Vida', 'Right Now (Na Na Na)', 'Battlefield', 'Sugar', 'Miss Independent', 'Fireflies', 'New Divide', 'Empire State of Mind', 'No Surprise', 'She Wolf', 'Break Up', 'Sweet Dreams', 'Every Girl', \"Fallin' for You\", 'Untouched', 'If Today Was Your Last Day', 'Throw It in the Bag', 'Love Drunk', 'I Love College', 'If U Seek Amy', 'Big Green Tractor', 'White Horse', 'Disturbia', '21 Guns', 'Turn My Swag On', \"Rockin' That Thang\", 'Chicken Fried', 'Diva', 'Replay', 'Then', 'Her Diamonds', 'How Do You Sleep?', '3', 'Forever', 'One Time', 'I Run to You', 'I Do Not Hook Up', 'Green Light', 'People Are Crazy', 'Whatever It Is', 'Already Gone', 'Goodbye', 'Say Hey (I Love You)', 'Pop Champagne', 'Pretty Wings', 'Never Say Never']\n"
     ]
    }
   ],
   "source": [
    "print(song_name_list)"
   ]
  },
  {
   "cell_type": "code",
   "execution_count": 7,
   "metadata": {},
   "outputs": [
    {
     "name": "stderr",
     "output_type": "stream",
     "text": [
      "  0%|          | 0/100 [00:00<?, ?it/s]C:\\Users\\Ice\\AppData\\Roaming\\Python\\Python39\\site-packages\\librosa\\util\\decorators.py:88: UserWarning: PySoundFile failed. Trying audioread instead.\n",
      "  return f(*args, **kwargs)\n",
      "c:\\Users\\Ice\\OneDrive\\Desktop\\GradProj\\interface\\model_preprocess\\music_gen_lib.py:164: FutureWarning: Pass y=[0. 0. 0. ... 0. 0. 0.], sr=44100 as keyword args. From version 0.10 passing these as positional arguments will result in an error\n",
      "  result =  librosa.feature.melspectrogram(ys, sr,\n",
      "  9%|▉         | 9/100 [06:20<1:09:59, 46.15s/it]c:\\Users\\Ice\\OneDrive\\Desktop\\GradProj\\interface\\model_preprocess\\music_gen_lib.py:164: FutureWarning: Pass y=[ 0.0000000e+00  0.0000000e+00  0.0000000e+00 ... -4.5776367e-05\n",
      " -3.0517578e-05 -1.5258789e-05], sr=44100 as keyword args. From version 0.10 passing these as positional arguments will result in an error\n",
      "  result =  librosa.feature.melspectrogram(ys, sr,\n",
      " 12%|█▏        | 12/100 [08:17<1:03:28, 43.28s/it]c:\\Users\\Ice\\OneDrive\\Desktop\\GradProj\\interface\\model_preprocess\\music_gen_lib.py:164: FutureWarning: Pass y=[0.0000000e+00 0.0000000e+00 0.0000000e+00 ... 0.0000000e+00 0.0000000e+00\n",
      " 1.5258789e-05], sr=44100 as keyword args. From version 0.10 passing these as positional arguments will result in an error\n",
      "  result =  librosa.feature.melspectrogram(ys, sr,\n",
      " 15%|█▌        | 15/100 [11:08<1:15:42, 53.44s/it]c:\\Users\\Ice\\OneDrive\\Desktop\\GradProj\\interface\\model_preprocess\\music_gen_lib.py:164: FutureWarning: Pass y=[ 4.5776367e-05  1.5258789e-05 -3.0517578e-05 ...  0.0000000e+00\n",
      "  0.0000000e+00  0.0000000e+00], sr=44100 as keyword args. From version 0.10 passing these as positional arguments will result in an error\n",
      "  result =  librosa.feature.melspectrogram(ys, sr,\n",
      " 16%|█▌        | 16/100 [11:45<1:07:49, 48.45s/it]c:\\Users\\Ice\\OneDrive\\Desktop\\GradProj\\interface\\model_preprocess\\music_gen_lib.py:164: FutureWarning: Pass y=[ 0.0000000e+00  0.0000000e+00  0.0000000e+00 ...  1.5258789e-05\n",
      "  0.0000000e+00 -1.5258789e-05], sr=44100 as keyword args. From version 0.10 passing these as positional arguments will result in an error\n",
      "  result =  librosa.feature.melspectrogram(ys, sr,\n",
      " 22%|██▏       | 22/100 [16:57<1:07:47, 52.14s/it]c:\\Users\\Ice\\OneDrive\\Desktop\\GradProj\\interface\\model_preprocess\\music_gen_lib.py:164: FutureWarning: Pass y=[0.0000000e+00 0.0000000e+00 0.0000000e+00 ... 3.0517578e-05 0.0000000e+00\n",
      " 0.0000000e+00], sr=44100 as keyword args. From version 0.10 passing these as positional arguments will result in an error\n",
      "  result =  librosa.feature.melspectrogram(ys, sr,\n",
      " 32%|███▏      | 32/100 [26:59<1:10:52, 62.53s/it]c:\\Users\\Ice\\OneDrive\\Desktop\\GradProj\\interface\\model_preprocess\\music_gen_lib.py:164: FutureWarning: Pass y=[ 0.0000000e+00  0.0000000e+00  0.0000000e+00 ... -1.5258789e-05\n",
      " -4.5776367e-05 -4.5776367e-05], sr=44100 as keyword args. From version 0.10 passing these as positional arguments will result in an error\n",
      "  result =  librosa.feature.melspectrogram(ys, sr,\n",
      " 35%|███▌      | 35/100 [29:26<58:05, 53.62s/it]  c:\\Users\\Ice\\OneDrive\\Desktop\\GradProj\\interface\\model_preprocess\\music_gen_lib.py:164: FutureWarning: Pass y=[ 0.0000000e+00  0.0000000e+00  0.0000000e+00 ... -4.5776367e-05\n",
      " -6.1035156e-05 -6.1035156e-05], sr=44100 as keyword args. From version 0.10 passing these as positional arguments will result in an error\n",
      "  result =  librosa.feature.melspectrogram(ys, sr,\n",
      " 36%|███▌      | 36/100 [30:28<59:56, 56.20s/it]c:\\Users\\Ice\\OneDrive\\Desktop\\GradProj\\interface\\model_preprocess\\music_gen_lib.py:164: FutureWarning: Pass y=[ 0.0000000e+00  0.0000000e+00  0.0000000e+00 ... -1.5258789e-05\n",
      "  0.0000000e+00  0.0000000e+00], sr=44100 as keyword args. From version 0.10 passing these as positional arguments will result in an error\n",
      "  result =  librosa.feature.melspectrogram(ys, sr,\n",
      " 45%|████▌     | 45/100 [41:26<1:12:19, 78.89s/it]c:\\Users\\Ice\\OneDrive\\Desktop\\GradProj\\interface\\model_preprocess\\music_gen_lib.py:164: FutureWarning: Pass y=[0.0000000e+00 0.0000000e+00 0.0000000e+00 ... 4.5776367e-05 3.0517578e-05\n",
      " 0.0000000e+00], sr=44100 as keyword args. From version 0.10 passing these as positional arguments will result in an error\n",
      "  result =  librosa.feature.melspectrogram(ys, sr,\n",
      " 56%|█████▌    | 56/100 [56:55<1:05:49, 89.75s/it]c:\\Users\\Ice\\OneDrive\\Desktop\\GradProj\\interface\\model_preprocess\\music_gen_lib.py:164: FutureWarning: Pass y=[0.0000000e+00 0.0000000e+00 0.0000000e+00 ... 3.0517578e-05 6.1035156e-05\n",
      " 4.5776367e-05], sr=44100 as keyword args. From version 0.10 passing these as positional arguments will result in an error\n",
      "  result =  librosa.feature.melspectrogram(ys, sr,\n"
     ]
    }
   ],
   "source": [
    "# added_song = []\n",
    "for song in tqdm(song_name_list):\n",
    "    for i in range(3):\n",
    "        try:\n",
    "            add_song(song)\n",
    "            # added_song.append(song)\n",
    "            break\n",
    "        except:\n",
    "            continue\n",
    "    "
   ]
  },
  {
   "cell_type": "code",
   "execution_count": 1,
   "metadata": {},
   "outputs": [
    {
     "ename": "KeyError",
     "evalue": "'CUDA_VISIBLE_DEVICES'",
     "output_type": "error",
     "traceback": [
      "\u001b[1;31m---------------------------------------------------------------------------\u001b[0m",
      "\u001b[1;31mKeyError\u001b[0m                                  Traceback (most recent call last)",
      "\u001b[1;32mc:\\Users\\Ice\\OneDrive\\Desktop\\GradProj\\interface\\songInp.ipynb Cell 7\u001b[0m in \u001b[0;36m2\n\u001b[0;32m      <a href='vscode-notebook-cell:/c%3A/Users/Ice/OneDrive/Desktop/GradProj/interface/songInp.ipynb#W6sZmlsZQ%3D%3D?line=0'>1</a>\u001b[0m \u001b[39mimport\u001b[39;00m \u001b[39mos\u001b[39;00m\n\u001b[1;32m----> <a href='vscode-notebook-cell:/c%3A/Users/Ice/OneDrive/Desktop/GradProj/interface/songInp.ipynb#W6sZmlsZQ%3D%3D?line=1'>2</a>\u001b[0m \u001b[39mprint\u001b[39m(os\u001b[39m.\u001b[39menviron[\u001b[39m'\u001b[39m\u001b[39mCUDA_VISIBLE_DEVICES\u001b[39m\u001b[39m'\u001b[39m])\n",
      "File \u001b[1;32mc:\\Python39\\lib\\os.py:679\u001b[0m, in \u001b[0;36m_Environ.__getitem__\u001b[1;34m(self, key)\u001b[0m\n\u001b[0;32m    676\u001b[0m     value \u001b[39m=\u001b[39m \u001b[39mself\u001b[39m\u001b[39m.\u001b[39m_data[\u001b[39mself\u001b[39m\u001b[39m.\u001b[39mencodekey(key)]\n\u001b[0;32m    677\u001b[0m \u001b[39mexcept\u001b[39;00m \u001b[39mKeyError\u001b[39;00m:\n\u001b[0;32m    678\u001b[0m     \u001b[39m# raise KeyError with the original key value\u001b[39;00m\n\u001b[1;32m--> 679\u001b[0m     \u001b[39mraise\u001b[39;00m \u001b[39mKeyError\u001b[39;00m(key) \u001b[39mfrom\u001b[39;00m \u001b[39mNone\u001b[39m\n\u001b[0;32m    680\u001b[0m \u001b[39mreturn\u001b[39;00m \u001b[39mself\u001b[39m\u001b[39m.\u001b[39mdecodevalue(value)\n",
      "\u001b[1;31mKeyError\u001b[0m: 'CUDA_VISIBLE_DEVICES'"
     ]
    }
   ],
   "source": [
    "import os\n",
    "print(os.environ['CUDA_VISIBLE_DEVICES'])"
   ]
  }
 ],
 "metadata": {
  "kernelspec": {
   "display_name": "Python 3",
   "language": "python",
   "name": "python3"
  },
  "language_info": {
   "codemirror_mode": {
    "name": "ipython",
    "version": 3
   },
   "file_extension": ".py",
   "mimetype": "text/x-python",
   "name": "python",
   "nbconvert_exporter": "python",
   "pygments_lexer": "ipython3",
   "version": "3.9.6"
  },
  "orig_nbformat": 4
 },
 "nbformat": 4,
 "nbformat_minor": 2
}
