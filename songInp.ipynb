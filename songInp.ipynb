{
 "cells": [
  {
   "cell_type": "code",
   "execution_count": null,
   "metadata": {},
   "outputs": [],
   "source": [
    "import sys\n",
    "from pathlib import Path\n",
    "from tqdm import tqdm\n",
    "\n",
    "# in jupyter (lab / notebook), based on notebook path\n",
    "module_path = str(Path.cwd())\n",
    "\n",
    "if module_path not in sys.path:\n",
    "    sys.path.append(module_path)"
   ]
  },
  {
   "cell_type": "code",
   "execution_count": null,
   "metadata": {},
   "outputs": [],
   "source": [
    "from main import add_song\n",
    "import requests\n",
    "from bs4 import BeautifulSoup"
   ]
  },
  {
   "cell_type": "code",
   "execution_count": null,
   "metadata": {},
   "outputs": [],
   "source": [
    "def loop_get_top_song(year):\n",
    "    # Make a GET request to the Wikipedia page\n",
    "    response = requests.get(f\"https://en.wikipedia.org/wiki/Billboard_Year-End_Hot_100_singles_of_{year}\")\n",
    "\n",
    "    # Parse the HTML content using BeautifulSoup\n",
    "    soup = BeautifulSoup(response.content, \"html.parser\")\n",
    "\n",
    "    # Find the table with the song names\n",
    "    song_table = soup.find(\"table\", {\"class\": \"wikitable sortable\"})\n",
    "\n",
    "    # Find all the rows in the table, skipping the first row (which contains column headers)\n",
    "    song_rows = song_table.find_all(\"tr\")[1:]\n",
    "\n",
    "    # Extract the song name from each row and add it to a list\n",
    "    song_names = [row.find_all(\"td\")[1].text.strip().replace('\"','' ) for row in song_rows]\n",
    "    song_singer = [row.find_all(\"td\")[2].text.strip().replace('\"','' ) for row in song_rows]\n",
    "    song_data = []\n",
    "    for i in range(len(song_names)):\n",
    "        song_data.append(song_names[i] + ' ' + song_singer[i])\n",
    "\n",
    "\n",
    "    # Print the list of song names\n",
    "    return song_data"
   ]
  },
  {
   "cell_type": "code",
   "execution_count": null,
   "metadata": {},
   "outputs": [],
   "source": [
    "song_name_list = []\n",
    "\n",
    "# for year in range(2021, 2020, -1):\n",
    "#     song_name_list = song_name_list+loop_get_top_song(year)\n",
    "\n",
    "song_name_list = song_name_list+loop_get_top_song(2010)\n",
    "    \n",
    "print(len(song_name_list))"
   ]
  },
  {
   "cell_type": "code",
   "execution_count": null,
   "metadata": {},
   "outputs": [],
   "source": [
    "print(song_name_list)\n",
    "print(len(song_name_list))\n",
    "# song_name_list = ['Post Malone - Circles']"
   ]
  },
  {
   "cell_type": "code",
   "execution_count": null,
   "metadata": {},
   "outputs": [],
   "source": [
    "# added_song = []\n",
    "for song in tqdm(song_name_list):\n",
    "    for i in range(3):\n",
    "        try:\n",
    "            add_song(song)\n",
    "            # added_song.append(song)\n",
    "            break\n",
    "        except:\n",
    "            continue\n",
    "    "
   ]
  },
  {
   "cell_type": "code",
   "execution_count": null,
   "metadata": {},
   "outputs": [],
   "source": [
    "import os\n",
    "print(os.environ['CUDA_VISIBLE_DEVICES'])"
   ]
  }
 ],
 "metadata": {
  "kernelspec": {
   "display_name": "Python 3",
   "language": "python",
   "name": "python3"
  },
  "language_info": {
   "codemirror_mode": {
    "name": "ipython",
    "version": 3
   },
   "file_extension": ".py",
   "mimetype": "text/x-python",
   "name": "python",
   "nbconvert_exporter": "python",
   "pygments_lexer": "ipython3",
   "version": "3.9.6"
  },
  "orig_nbformat": 4
 },
 "nbformat": 4,
 "nbformat_minor": 2
}
